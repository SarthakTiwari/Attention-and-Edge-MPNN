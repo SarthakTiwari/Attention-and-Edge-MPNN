{
  "nbformat": 4,
  "nbformat_minor": 0,
  "metadata": {
    "colab": {
      "name": "visualization",
      "provenance": []
    },
    "kernelspec": {
      "name": "python3",
      "display_name": "Python 3"
    }
  },
  "cells": [
    {
      "cell_type": "markdown",
      "metadata": {
        "id": "5eqtjt1EiWDP",
        "colab_type": "text"
      },
      "source": [
        "Dependencies"
      ]
    },
    {
      "cell_type": "code",
      "metadata": {
        "id": "xsSIChF2U8G1",
        "colab_type": "code",
        "colab": {}
      },
      "source": [
        "import pandas as pd\n",
        "import numpy as np\n",
        "import torch\n",
        "\n",
        "%matplotlib inline\n",
        "import matplotlib\n",
        "import matplotlib.pyplot as plt\n",
        "import matplotlib.cm as cm\n",
        "\n",
        "\n",
        "from io import BytesIO\n",
        "from PIL import Image\n",
        "\n",
        "from rdkit import Chem\n",
        "from rdkit.Chem import Draw\n",
        "from rdkit.Chem import rdDepictor\n",
        "from rdkit.Chem.Draw import rdMolDraw2D\n",
        "from rdkit.Chem.Draw.MolDrawing import MolDrawing, DrawingOptions\n",
        "\n",
        "from captum.attr import IntegratedGradients\n",
        "\n",
        "from preprocessing import smile_to_graph,molgraph_collate_fn\n",
        "from  edge_memory_network import EMNImplementation"
      ],
      "execution_count": 7,
      "outputs": []
    },
    {
      "cell_type": "markdown",
      "metadata": {
        "id": "JjUZxupSided",
        "colab_type": "text"
      },
      "source": [
        "Loading pretrained model"
      ]
    },
    {
      "cell_type": "code",
      "metadata": {
        "id": "pTLs5_atU8Vm",
        "colab_type": "code",
        "colab": {
          "base_uri": "https://localhost:8080/",
          "height": 34
        },
        "outputId": "b83e05e7-55f9-4943-e9cf-778649b614b1"
      },
      "source": [
        "model = EMNImplementation(node_features=16, edge_features=4,edge_embedding_size=25, message_passes=4, out_features=1)\n",
        "checkpoint = torch.load(r\"lightning_logs/version_1/checkpoints/epoch=96.ckpt\")\n",
        "model.load_state_dict(checkpoint['state_dict'])\n",
        "\n"
      ],
      "execution_count": 8,
      "outputs": [
        {
          "output_type": "execute_result",
          "data": {
            "text/plain": [
              "<All keys matched successfully>"
            ]
          },
          "metadata": {
            "tags": []
          },
          "execution_count": 8
        }
      ]
    },
    {
      "cell_type": "code",
      "metadata": {
        "id": "7h7IGjhCU8bT",
        "colab_type": "code",
        "colab": {
          "base_uri": "https://localhost:8080/",
          "height": 204
        },
        "outputId": "5a65e1f5-09e0-425d-bc48-c68e7c4096d4"
      },
      "source": [
        "model.eval()"
      ],
      "execution_count": 9,
      "outputs": [
        {
          "output_type": "execute_result",
          "data": {
            "text/plain": [
              "EMNImplementation(\n",
              "  (embedding_nn): FeedForwardNetwork(in_features=36, hidden_layer_sizes=[150, 150, 150], out_features=25, activation=SELU(), bias=False, dropout_p=0.0)\n",
              "  (emb_msg_nn): FeedForwardNetwork(in_features=25, hidden_layer_sizes=[80, 80, 80], out_features=25, activation=SELU(), bias=False, dropout_p=0.0)\n",
              "  (att_msg_nn): FeedForwardNetwork(in_features=25, hidden_layer_sizes=[80, 80, 80], out_features=25, activation=SELU(), bias=False, dropout_p=0.0)\n",
              "  (gru): GRUCell(25, 25, bias=False)\n",
              "  (gather): GraphGather(\n",
              "    (att_nn): FeedForwardNetwork(in_features=50, hidden_layer_sizes=[100, 100, 100], out_features=100, activation=SELU(), bias=False, dropout_p=0.0)\n",
              "    (emb_nn): FeedForwardNetwork(in_features=25, hidden_layer_sizes=[100, 100, 100], out_features=100, activation=SELU(), bias=False, dropout_p=0.0)\n",
              "  )\n",
              "  (out_nn): FeedForwardNetwork(in_features=100, hidden_layer_sizes=[100, 100], out_features=1, activation=SELU(), bias=False, dropout_p=0)\n",
              ")"
            ]
          },
          "metadata": {
            "tags": []
          },
          "execution_count": 9
        }
      ]
    },
    {
      "cell_type": "markdown",
      "metadata": {
        "id": "dhbwqv7Yio7S",
        "colab_type": "text"
      },
      "source": [
        "Loading Data"
      ]
    },
    {
      "cell_type": "code",
      "metadata": {
        "id": "7QZc0z_IU8fs",
        "colab_type": "code",
        "colab": {}
      },
      "source": [
        "data1 = pd.read_csv('sider.csv' )\n",
        "data_list=[]\n",
        "        \n",
        "for index in range(len(data1)):\n",
        "    adjacency, nodes, edges = smile_to_graph(data1['smiles'][index])\n",
        "    targets=np.expand_dims(data1['Hepatobiliary disorders'][index], axis=0)\n",
        "    data_list.append(((adjacency, nodes, edges), targets))\n"
      ],
      "execution_count": 10,
      "outputs": []
    },
    {
      "cell_type": "code",
      "metadata": {
        "id": "NXfVmtXSU8UW",
        "colab_type": "code",
        "colab": {}
      },
      "source": [
        "\n",
        "mols = Chem.MolFromSmiles(data1['smiles'][1101] )\n"
      ],
      "execution_count": 11,
      "outputs": []
    },
    {
      "cell_type": "markdown",
      "metadata": {
        "id": "Pfe-bKXOxjc2",
        "colab_type": "text"
      },
      "source": [
        "Getting attribution scores"
      ]
    },
    {
      "cell_type": "code",
      "metadata": {
        "id": "j0IifCKCWeCr",
        "colab_type": "code",
        "colab": {}
      },
      "source": [
        " ig = IntegratedGradients(model)\n",
        "adjacency, nodes, edges, targets=molgraph_collate_fn(np.expand_dims(data_list[1101], axis=0))\n",
        "attr= ig.attribute(nodes,additional_forward_args= (edges,adjacency),target=0 )\n"
      ],
      "execution_count": 12,
      "outputs": []
    },
    {
      "cell_type": "code",
      "metadata": {
        "id": "PfmkXsOpWuIC",
        "colab_type": "code",
        "colab": {}
      },
      "source": [
        "attr1=torch.squeeze(attr, dim=0)\n",
        "attr2=attr1.sum(dim=1)\n",
        "vmax = max(attr2.abs().max(), 1e-16)\n",
        "vmin = -vmax"
      ],
      "execution_count": 13,
      "outputs": []
    },
    {
      "cell_type": "code",
      "metadata": {
        "id": "NVH3do8uWuE6",
        "colab_type": "code",
        "colab": {}
      },
      "source": [
        "def get_colors(inp, colormap, vmin=-max(attr1.abs().max(), 1e-16), vmax=max(attr1.abs().max(), 1e-16)):\n",
        "    norm = plt.Normalize(vmin, vmax)\n",
        "    return colormap(norm(inp))\n",
        "node_colors = get_colors(attr2, plt.cm.bwr)\n",
        "node_colors=node_colors[:,:3]"
      ],
      "execution_count": 14,
      "outputs": []
    },
    {
      "cell_type": "markdown",
      "metadata": {
        "id": "pNoqHUNTjRGv",
        "colab_type": "text"
      },
      "source": [
        "Drawing molecule"
      ]
    },
    {
      "cell_type": "code",
      "metadata": {
        "id": "Tc3W5qxbXMu_",
        "colab_type": "code",
        "colab": {}
      },
      "source": [
        "def moltopng(mol,node_colors, edge_colors, molSize=(450,150),kekulize=True):\n",
        "    mc = Chem.Mol(mol.ToBinary())\n",
        "    if kekulize:\n",
        "        try:\n",
        "            Chem.Kekulize(mc)\n",
        "        except:\n",
        "            mc = Chem.Mol(mol.ToBinary())\n",
        "    if not mc.GetNumConformers():\n",
        "        rdDepictor.Compute2DCoords(mc)\n",
        "    drawer = rdMolDraw2D.MolDraw2DCairo(molSize[0],molSize[1])\n",
        "    drawer.drawOptions().useBWAtomPalette()\n",
        "    drawer.drawOptions().padding = .2\n",
        "    drawer.DrawMolecule(\n",
        "        mc,\n",
        "        highlightAtoms=[i for i in range(len(node_colors))], \n",
        "        highlightAtomColors={i: tuple(c) for i, c in enumerate(node_colors)}, \n",
        "        highlightBonds=[i for i in range(len(edge_colors))],\n",
        "        highlightBondColors={i: tuple(c) for i, c in enumerate(edge_colors)},\n",
        "        highlightAtomRadii={i: .5 for i in range(len(node_colors))}\n",
        "    )\n",
        "    drawer.FinishDrawing()\n",
        "    return drawer.GetDrawingText()"
      ],
      "execution_count": 15,
      "outputs": []
    },
    {
      "cell_type": "code",
      "metadata": {
        "id": "XBVfQKtNXUTZ",
        "colab_type": "code",
        "colab": {
          "base_uri": "https://localhost:8080/",
          "height": 690
        },
        "outputId": "86a0ea1f-ccee-4462-9eb0-32e0b473a1c9"
      },
      "source": [
        "fig, ax = plt.subplots(figsize=(6, 1))\n",
        "fig.subplots_adjust(bottom=0.5)\n",
        "\n",
        "cmap = plt.cm.bwr\n",
        "norm = plt.Normalize(vmin, vmax)\n",
        "\n",
        "fig.colorbar(cm.ScalarMappable(norm=norm, cmap=cmap),\n",
        "             cax=ax, orientation='horizontal', label='color_bar')\n",
        "\n",
        "\n",
        "b = BytesIO(); b.write(moltopng(mols, node_colors=node_colors, edge_colors={}, molSize=(600,600))); b.seek(0)\n",
        "display(Image.open(b))\n",
        "b.close()"
      ],
      "execution_count": 16,
      "outputs": [
        {
          "output_type": "display_data",
          "data": {
            "image/png": "[encoded data removed]",
            "text/plain": [
              "<PIL.PngImagePlugin.PngImageFile image mode=RGB size=600x600 at 0x7EFF81460588>"
            ]
          },
          "metadata": {
            "tags": []
          }
        },
        {
          "output_type": "display_data",
          "data": {
            "image/png": "[encoded data removed]",
            "text/plain": [
              "<Figure size 432x72 with 1 Axes>"
            ]
          },
          "metadata": {
            "tags": [],
            "needs_background": "light"
          }
        }
      ]
    },
    {
      "cell_type": "code",
      "metadata": {
        "id": "8hm2NGi1f06d",
        "colab_type": "code",
        "colab": {}
      },
      "source": [
        "symbols= {i: f'{mols.GetAtomWithIdx(i).GetSymbol()}{i}' for i in range(mols.GetNumAtoms())}"
      ],
      "execution_count": 17,
      "outputs": []
    },
    {
      "cell_type": "code",
      "metadata": {
        "id": "ipG9kaEBf-q4",
        "colab_type": "code",
        "colab": {
          "base_uri": "https://localhost:8080/",
          "height": 34
        },
        "outputId": "22ce45a3-db1a-4e67-e267-5d419f0f2a5a"
      },
      "source": [
        "feature_list=[\n",
        "        'C',\n",
        "        'N',\n",
        "        'O',\n",
        "        'S',\n",
        "        'F',\n",
        "        'Si',\n",
        "        'P',\n",
        "        'Cl',\n",
        "        'Br',\n",
        "        'Unknown',\n",
        "        'Degree',\n",
        "        'ImplicitValence',\n",
        "        'FormalCharge',\n",
        "        'NumRadicalElectrons',\n",
        "        'IsAromatic',\n",
        "        'TotalNumHs']\n",
        "len(feature_list)"
      ],
      "execution_count": 18,
      "outputs": [
        {
          "output_type": "execute_result",
          "data": {
            "text/plain": [
              "16"
            ]
          },
          "metadata": {
            "tags": []
          },
          "execution_count": 18
        }
      ]
    },
    {
      "cell_type": "code",
      "metadata": {
        "id": "ti_cZWnGf_6L",
        "colab_type": "code",
        "colab": {
          "base_uri": "https://localhost:8080/",
          "height": 893
        },
        "outputId": "711a91fe-2b21-4e87-a3b6-93481a5e4746"
      },
      "source": [
        "\n",
        "def visualize_importances(feature_names, importances, title=\"Feature Importances\", plot=True, axis_title=\"Features\"):\n",
        "    print(title)\n",
        "    for i in range(len(feature_names)):\n",
        "        print(feature_names[i], \": \", '%.3f'%(importances[i]))\n",
        "    x_pos = (np.arange(len(feature_names)))\n",
        "    if plot:\n",
        "        plt.figure(figsize=(20,10))\n",
        "        plt.bar(x_pos, importances, align='center')\n",
        "        plt.xticks(x_pos, feature_names)#,rotation='vertical')\n",
        "        plt.xlabel(axis_title)\n",
        "        plt.title(title)\n",
        "visualize_importances(list(symbols.values()), attr2)"
      ],
      "execution_count": 19,
      "outputs": [
        {
          "output_type": "stream",
          "text": [
            "Feature Importances\n",
            "C0 :  0.057\n",
            "C1 :  -0.383\n",
            "C2 :  0.375\n",
            "C3 :  0.468\n",
            "C4 :  -0.428\n",
            "C5 :  -0.076\n",
            "C6 :  0.008\n",
            "C7 :  -0.566\n",
            "C8 :  0.530\n",
            "C9 :  -0.363\n",
            "C10 :  -0.337\n",
            "N11 :  0.538\n",
            "C12 :  -0.711\n",
            "C13 :  0.003\n",
            "N14 :  0.664\n"
          ],
          "name": "stdout"
        },
        {
          "output_type": "display_data",
          "data": {
            "image/png": "[encoded data removed]",
            "text/plain": [
              "<Figure size 1440x720 with 1 Axes>"
            ]
          },
          "metadata": {
            "tags": [],
            "needs_background": "light"
          }
        }
      ]
    },
    {
      "cell_type": "code",
      "metadata": {
        "id": "clWIOpdZgGY7",
        "colab_type": "code",
        "colab": {
          "base_uri": "https://localhost:8080/",
          "height": 461
        },
        "outputId": "b2f0ac7d-e384-4902-e0eb-4343757e4ae5"
      },
      "source": [
        "x_pos = (np.arange(len(feature_list)))\n",
        "y_pos = (np.arange(len(list(symbols.values()))))\n",
        "plt.matshow(attr1,cmap=cmap)\n",
        "plt.xticks(x_pos,feature_list,rotation='vertical')\n",
        "plt.yticks(y_pos,list(symbols.values()))\n",
        "plt.show()\n",
        "\n",
        "fig, ax = plt.subplots(figsize=(6, 1))\n",
        "fig.subplots_adjust(bottom=0.5)\n",
        "fig.colorbar(cm.ScalarMappable(norm=norm, cmap=cmap),\n",
        "             cax=ax, orientation='horizontal', label='color_bar')\n",
        "#plt.savefig(\"matrix_vis.png\")"
      ],
      "execution_count": 20,
      "outputs": [
        {
          "output_type": "display_data",
          "data": {
            "image/png": "[encoded data removed]",
            "text/plain": [
              "<Figure size 307.2x288 with 1 Axes>"
            ]
          },
          "metadata": {
            "tags": [],
            "needs_background": "light"
          }
        },
        {
          "output_type": "execute_result",
          "data": {
            "text/plain": [
              "<matplotlib.colorbar.Colorbar at 0x7eff80dce550>"
            ]
          },
          "metadata": {
            "tags": []
          },
          "execution_count": 20
        },
        {
          "output_type": "display_data",
          "data": {
            "image/png": "[encoded data removed]",
            "text/plain": [
              "<Figure size 432x72 with 1 Axes>"
            ]
          },
          "metadata": {
            "tags": [],
            "needs_background": "light"
          }
        }
      ]
    },
    {
      "cell_type": "code",
      "metadata": {
        "id": "1lAGCjkjosDc",
        "colab_type": "code",
        "colab": {}
      },
      "source": [
        ""
      ],
      "execution_count": null,
      "outputs": []
    }
  ]
}